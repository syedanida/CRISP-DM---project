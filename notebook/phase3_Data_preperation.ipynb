{
  "nbformat": 4,
  "nbformat_minor": 0,
  "metadata": {
    "colab": {
      "provenance": []
    },
    "kernelspec": {
      "name": "python3",
      "display_name": "Python 3"
    },
    "language_info": {
      "name": "python"
    }
  },
  "cells": [
    {
      "cell_type": "code",
      "execution_count": 1,
      "metadata": {
        "id": "qJwZgVXtGuSS"
      },
      "outputs": [],
      "source": [
        "import pandas as pd\n",
        "import numpy as np\n",
        "from sklearn.preprocessing import StandardScaler\n",
        "from sklearn.model_selection import train_test_split"
      ]
    },
    {
      "cell_type": "code",
      "source": [
        "# Load datasets\n",
        "train_df = pd.read_csv('train.csv')\n",
        "test_df = pd.read_csv('test.csv')"
      ],
      "metadata": {
        "id": "bqXjHYCHG_V_"
      },
      "execution_count": 2,
      "outputs": []
    },
    {
      "cell_type": "code",
      "source": [
        "# Fill missing 'Age' values with median\n",
        "train_df['Age'].fillna(train_df['Age'].median(), inplace=True)\n",
        "test_df['Age'].fillna(test_df['Age'].median(), inplace=True)"
      ],
      "metadata": {
        "id": "_OBXR7xtG_TF"
      },
      "execution_count": 3,
      "outputs": []
    },
    {
      "cell_type": "code",
      "source": [
        "# Fill missing 'Embarked' with mode\n",
        "train_df['Embarked'].fillna(train_df['Embarked'].mode()[0], inplace=True)\n",
        "test_df['Embarked'].fillna(test_df['Embarked'].mode()[0], inplace=True)"
      ],
      "metadata": {
        "id": "EgeHX98JG_B_"
      },
      "execution_count": 4,
      "outputs": []
    },
    {
      "cell_type": "code",
      "source": [
        "# Drop 'Cabin' due to high number of missing values\n",
        "train_df.drop('Cabin', axis=1, inplace=True)\n",
        "test_df.drop('Cabin', axis=1, inplace=True)"
      ],
      "metadata": {
        "id": "x_qz2t_3HGtj"
      },
      "execution_count": 5,
      "outputs": []
    },
    {
      "cell_type": "markdown",
      "source": [
        "Removing Duplicates"
      ],
      "metadata": {
        "id": "TdD02rD-HI91"
      }
    },
    {
      "cell_type": "code",
      "source": [
        "# Check for duplicates\n",
        "print(\"\\nDuplicates in Training Set:\", train_df.duplicated().sum())\n",
        "print(\"Duplicates in Test Set:\", test_df.duplicated().sum())"
      ],
      "metadata": {
        "colab": {
          "base_uri": "https://localhost:8080/"
        },
        "id": "_K-86TlhHHei",
        "outputId": "1424a28f-f5f7-4b5e-8af3-a2a517ee0c54"
      },
      "execution_count": 6,
      "outputs": [
        {
          "output_type": "stream",
          "name": "stdout",
          "text": [
            "\n",
            "Duplicates in Training Set: 0\n",
            "Duplicates in Test Set: 0\n"
          ]
        }
      ]
    },
    {
      "cell_type": "code",
      "source": [
        "# Remove duplicates if any\n",
        "train_df.drop_duplicates(inplace=True)\n",
        "test_df.drop_duplicates(inplace=True)"
      ],
      "metadata": {
        "id": "5lBdiOuyHHbo"
      },
      "execution_count": 7,
      "outputs": []
    },
    {
      "cell_type": "code",
      "source": [
        "# Convert 'PassengerId' to string if necessary\n",
        "train_df['PassengerId'] = train_df['PassengerId'].astype(str)\n",
        "test_df['PassengerId'] = test_df['PassengerId'].astype(str)\n"
      ],
      "metadata": {
        "id": "qxdEEmcxHHYL"
      },
      "execution_count": 8,
      "outputs": []
    },
    {
      "cell_type": "markdown",
      "source": [
        "Feature Engineering"
      ],
      "metadata": {
        "id": "7fO7IM61HRPR"
      }
    },
    {
      "cell_type": "code",
      "source": [
        "# Extract Title from Name\n",
        "train_df['Title'] = train_df['Name'].str.extract(' ([A-Za-z]+)\\.', expand=False)\n",
        "test_df['Title'] = test_df['Name'].str.extract(' ([A-Za-z]+)\\.', expand=False)\n",
        "\n",
        "# Simplify titles\n",
        "train_df['Title'] = train_df['Title'].replace(['Lady', 'Countess','Capt', 'Col','Don', 'Dr',\n",
        "                                              'Major', 'Rev', 'Sir', 'Jonkheer', 'Dona'], 'Rare')\n",
        "train_df['Title'] = train_df['Title'].replace(['Mlle', 'Ms'], 'Miss')\n",
        "train_df['Title'] = train_df['Title'].replace('Mme', 'Mrs')\n",
        "\n",
        "test_df['Title'] = test_df['Title'].replace(['Lady', 'Countess','Capt', 'Col','Don', 'Dr',\n",
        "                                            'Major', 'Rev', 'Sir', 'Jonkheer', 'Dona'], 'Rare')\n",
        "test_df['Title'] = test_df['Title'].replace(['Mlle', 'Ms'], 'Miss')\n",
        "test_df['Title'] = test_df['Title'].replace('Mme', 'Mrs')"
      ],
      "metadata": {
        "id": "E3Af7h2dHHRW"
      },
      "execution_count": 9,
      "outputs": []
    },
    {
      "cell_type": "code",
      "source": [
        "# Encode 'Title'\n",
        "title_mapping = {'Mr': 1, 'Miss': 2, 'Mrs': 3, 'Master': 4, 'Rare': 5}\n",
        "train_df['Title'] = train_df['Title'].map(title_mapping)\n",
        "test_df['Title'] = test_df['Title'].map(title_mapping)\n",
        "\n",
        "# Fill missing titles with 0\n",
        "train_df['Title'].fillna(0, inplace=True)\n",
        "test_df['Title'].fillna(0, inplace=True)"
      ],
      "metadata": {
        "id": "5JPM1N-GHUuK"
      },
      "execution_count": 10,
      "outputs": []
    },
    {
      "cell_type": "code",
      "source": [
        "# Create FamilySize\n",
        "train_df['FamilySize'] = train_df['SibSp'] + train_df['Parch'] + 1\n",
        "test_df['FamilySize'] = test_df['SibSp'] + test_df['Parch'] + 1"
      ],
      "metadata": {
        "id": "7ZqBKJhiHUrf"
      },
      "execution_count": 11,
      "outputs": []
    },
    {
      "cell_type": "code",
      "source": [
        "# Create IsAlone\n",
        "train_df['IsAlone'] = 1  # Initialize to 1 (meaning alone)\n",
        "train_df.loc[train_df['FamilySize'] > 1, 'IsAlone'] = 0\n",
        "\n",
        "test_df['IsAlone'] = 1\n",
        "test_df.loc[test_df['FamilySize'] > 1, 'IsAlone'] = 0"
      ],
      "metadata": {
        "id": "bFZca6dEHUo1"
      },
      "execution_count": 12,
      "outputs": []
    },
    {
      "cell_type": "code",
      "source": [
        "# Fare Binning\n",
        "train_df['FareBin'] = pd.qcut(train_df['Fare'], 4, labels=[1, 2, 3, 4])\n",
        "test_df['FareBin'] = pd.qcut(test_df['Fare'], 4, labels=[1, 2, 3, 4])"
      ],
      "metadata": {
        "id": "tOUoFFlxHUmG"
      },
      "execution_count": 14,
      "outputs": []
    },
    {
      "cell_type": "code",
      "source": [
        "# Age Binning\n",
        "train_df['AgeBin'] = pd.cut(train_df['Age'].astype(int), 5, labels=[1, 2, 3, 4, 5])\n",
        "test_df['AgeBin'] = pd.cut(test_df['Age'].astype(int), 5, labels=[1, 2, 3, 4, 5])\n"
      ],
      "metadata": {
        "id": "1aqzIv3HHUjr"
      },
      "execution_count": 15,
      "outputs": []
    },
    {
      "cell_type": "code",
      "source": [
        "# Encode 'Sex'\n",
        "train_df['Sex_encoded'] = train_df['Sex'].map({'male': 0, 'female': 1})\n",
        "test_df['Sex_encoded'] = test_df['Sex'].map({'male': 0, 'female': 1})\n",
        "\n",
        "# One-hot encode 'Embarked'\n",
        "embarked_dummies_train = pd.get_dummies(train_df['Embarked'], prefix='Embarked')\n",
        "train_df = pd.concat([train_df, embarked_dummies_train], axis=1)\n",
        "\n",
        "embarked_dummies_test = pd.get_dummies(test_df['Embarked'], prefix='Embarked')\n",
        "test_df = pd.concat([test_df, embarked_dummies_test], axis=1)"
      ],
      "metadata": {
        "id": "WRW8K3naHUgm"
      },
      "execution_count": 16,
      "outputs": []
    },
    {
      "cell_type": "code",
      "source": [
        "# Drop original 'Name', 'Sex', and 'Embarked' columns\n",
        "train_df.drop(['Name', 'Sex', 'Embarked'], axis=1, inplace=True)\n",
        "test_df.drop(['Name', 'Sex', 'Embarked'], axis=1, inplace=True)"
      ],
      "metadata": {
        "id": "Ho-VE49UHc9D"
      },
      "execution_count": 17,
      "outputs": []
    },
    {
      "cell_type": "markdown",
      "source": [
        "Data Transformation"
      ],
      "metadata": {
        "id": "VU3iQx4nHtHU"
      }
    },
    {
      "cell_type": "code",
      "source": [
        "# Initialize scaler\n",
        "scaler = StandardScaler()\n",
        "\n",
        "# Select features to scale\n",
        "features_to_scale = ['Age', 'Fare', 'FamilySize']\n",
        "\n",
        "# Fit and transform the features\n",
        "train_df[features_to_scale] = scaler.fit_transform(train_df[features_to_scale])\n",
        "test_df[features_to_scale] = scaler.transform(test_df[features_to_scale])\n",
        "\n",
        "# Verify scaling\n",
        "print(\"\\nScaled numerical features:\")\n",
        "print(train_df[features_to_scale].head())"
      ],
      "metadata": {
        "colab": {
          "base_uri": "https://localhost:8080/"
        },
        "id": "MA30MFZOHc3i",
        "outputId": "1a344554-0ff8-4b3e-ddf3-7477c46251ec"
      },
      "execution_count": 18,
      "outputs": [
        {
          "output_type": "stream",
          "name": "stdout",
          "text": [
            "\n",
            "Scaled numerical features:\n",
            "        Age      Fare  FamilySize\n",
            "0 -0.565736 -0.502445    0.059160\n",
            "1  0.663861  0.786845    0.059160\n",
            "2 -0.258337 -0.488854   -0.560975\n",
            "3  0.433312  0.420730    0.059160\n",
            "4  0.433312 -0.486337   -0.560975\n"
          ]
        }
      ]
    },
    {
      "cell_type": "code",
      "source": [
        "# Box plot for Fare\n",
        "import seaborn as sns\n",
        "import matplotlib.pyplot as plt\n",
        "\n",
        "sns.boxplot(x=train_df['Fare'])\n",
        "plt.title('Box Plot of Fare')\n",
        "plt.show()\n",
        "\n",
        "# Box plot for Age\n",
        "sns.boxplot(x=train_df['Age'])\n",
        "plt.title('Box Plot of Age')\n",
        "plt.show()\n",
        "\n",
        "# Handling outliers in 'Fare' using capping (IQR method)\n",
        "Q1 = train_df['Fare'].quantile(0.25)\n",
        "Q3 = train_df['Fare'].quantile(0.75)\n",
        "IQR = Q3 - Q1\n",
        "lower_bound = Q1 - 1.5 * IQR\n",
        "upper_bound = Q3 + 1.5 * IQR\n",
        "\n",
        "# Cap 'Fare' values\n",
        "train_df['Fare'] = np.where(train_df['Fare'] > upper_bound, upper_bound, train_df['Fare'])\n",
        "test_df['Fare'] = np.where(test_df['Fare'] > upper_bound, upper_bound, test_df['Fare'])\n",
        "\n",
        "# Handling outliers in 'Age' using capping (IQR method)\n",
        "Q1_age = train_df['Age'].quantile(0.25)\n",
        "Q3_age = train_df['Age'].quantile(0.75)\n",
        "IQR_age = Q3_age - Q1_age\n",
        "lower_bound_age = Q1_age - 1.5 * IQR_age\n",
        "upper_bound_age = Q3_age + 1.5 * IQR_age\n",
        "\n",
        "# Cap 'Age' values\n",
        "train_df['Age'] = np.where(train_df['Age'] > upper_bound_age, upper_bound_age, train_df['Age'])\n",
        "test_df['Age'] = np.where(test_df['Age'] > upper_bound_age, upper_bound_age, test_df['Age'])\n"
      ],
      "metadata": {
        "colab": {
          "base_uri": "https://localhost:8080/",
          "height": 927
        },
        "id": "l1rsrz95HxAf",
        "outputId": "a488b04e-12c0-4a08-9bd5-d22d5b70bee3"
      },
      "execution_count": 21,
      "outputs": [
        {
          "output_type": "display_data",
          "data": {
            "text/plain": [
              "<Figure size 640x480 with 1 Axes>"
            ],
            "image/png": "[encoded data removed]"
          },
          "metadata": {}
        },
        {
          "output_type": "display_data",
          "data": {
            "text/plain": [
              "<Figure size 640x480 with 1 Axes>"
            ],
            "image/png": "[encoded data removed]"
          },
          "metadata": {}
        }
      ]
    },
    {
      "cell_type": "markdown",
      "source": [
        "Splitting the data"
      ],
      "metadata": {
        "id": "jlUi8_ixH304"
      }
    },
    {
      "cell_type": "code",
      "source": [
        "# Define target and features\n",
        "X = train_df.drop(['PassengerId', 'Survived'], axis=1)\n",
        "y = train_df['Survived']"
      ],
      "metadata": {
        "id": "mhXrSbmzHw91"
      },
      "execution_count": 22,
      "outputs": []
    },
    {
      "cell_type": "code",
      "source": [
        "# Split into training and validation sets\n",
        "X_train, X_val, y_train, y_val = train_test_split(\n",
        "    X, y, test_size=0.2, random_state=42, stratify=y\n",
        ")\n",
        "\n",
        "print(\"\\nTraining set size:\", X_train.shape)\n",
        "print(\"Validation set size:\", X_val.shape)"
      ],
      "metadata": {
        "colab": {
          "base_uri": "https://localhost:8080/"
        },
        "id": "fNQ8gvLKHw7a",
        "outputId": "749d0bdc-5a3f-4704-f3c6-e96c4f3d8384"
      },
      "execution_count": 23,
      "outputs": [
        {
          "output_type": "stream",
          "name": "stdout",
          "text": [
            "\n",
            "Training set size: (712, 15)\n",
            "Validation set size: (179, 15)\n"
          ]
        }
      ]
    }
  ]
}
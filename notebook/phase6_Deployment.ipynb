{
  "nbformat": 4,
  "nbformat_minor": 0,
  "metadata": {
    "colab": {
      "provenance": []
    },
    "kernelspec": {
      "name": "python3",
      "display_name": "Python 3"
    },
    "language_info": {
      "name": "python"
    }
  },
  "cells": [
    {
      "cell_type": "code",
      "source": [
        "import pandas as pd\n",
        "\n",
        "# Load your dataset (replace 'your_data.csv' with your actual file path)\n",
        "train_data = pd.read_csv('train.csv')\n",
        "test_data = pd.read_csv('test.csv')\n",
        "\n"
      ],
      "metadata": {
        "id": "wKEb1kVB87lG"
      },
      "execution_count": 11,
      "outputs": []
    },
    {
      "cell_type": "code",
      "source": [
        "print(train_data.head())"
      ],
      "metadata": {
        "colab": {
          "base_uri": "https://localhost:8080/"
        },
        "id": "IK6Lokeg9OEq",
        "outputId": "5ea63ab0-82b7-4828-ce62-790729deac68"
      },
      "execution_count": 12,
      "outputs": [
        {
          "output_type": "stream",
          "name": "stdout",
          "text": [
            "   PassengerId  Survived  Pclass  \\\n",
            "0            1         0       3   \n",
            "1            2         1       1   \n",
            "2            3         1       3   \n",
            "3            4         1       1   \n",
            "4            5         0       3   \n",
            "\n",
            "                                                Name     Sex   Age  SibSp  \\\n",
            "0                            Braund, Mr. Owen Harris    male  22.0      1   \n",
            "1  Cumings, Mrs. John Bradley (Florence Briggs Th...  female  38.0      1   \n",
            "2                             Heikkinen, Miss. Laina  female  26.0      0   \n",
            "3       Futrelle, Mrs. Jacques Heath (Lily May Peel)  female  35.0      1   \n",
            "4                           Allen, Mr. William Henry    male  35.0      0   \n",
            "\n",
            "   Parch            Ticket     Fare Cabin Embarked  \n",
            "0      0         A/5 21171   7.2500   NaN        S  \n",
            "1      0          PC 17599  71.2833   C85        C  \n",
            "2      0  STON/O2. 3101282   7.9250   NaN        S  \n",
            "3      0            113803  53.1000  C123        S  \n",
            "4      0            373450   8.0500   NaN        S  \n"
          ]
        }
      ]
    },
    {
      "cell_type": "code",
      "source": [
        "print(train_data.columns)"
      ],
      "metadata": {
        "colab": {
          "base_uri": "https://localhost:8080/"
        },
        "id": "UqVgYyhG9d1x",
        "outputId": "5f7b2010-52a8-49dc-9b3d-322632f7074c"
      },
      "execution_count": 13,
      "outputs": [
        {
          "output_type": "stream",
          "name": "stdout",
          "text": [
            "Index(['PassengerId', 'Survived', 'Pclass', 'Name', 'Sex', 'Age', 'SibSp',\n",
            "       'Parch', 'Ticket', 'Fare', 'Cabin', 'Embarked'],\n",
            "      dtype='object')\n"
          ]
        }
      ]
    },
    {
      "cell_type": "code",
      "source": [
        "print(test_data.head())"
      ],
      "metadata": {
        "colab": {
          "base_uri": "https://localhost:8080/"
        },
        "id": "OMTXmpw49ixe",
        "outputId": "87250116-b6aa-4cad-d0eb-88065c680dbc"
      },
      "execution_count": 14,
      "outputs": [
        {
          "output_type": "stream",
          "name": "stdout",
          "text": [
            "   PassengerId  Pclass                                          Name     Sex  \\\n",
            "0          892       3                              Kelly, Mr. James    male   \n",
            "1          893       3              Wilkes, Mrs. James (Ellen Needs)  female   \n",
            "2          894       2                     Myles, Mr. Thomas Francis    male   \n",
            "3          895       3                              Wirz, Mr. Albert    male   \n",
            "4          896       3  Hirvonen, Mrs. Alexander (Helga E Lindqvist)  female   \n",
            "\n",
            "    Age  SibSp  Parch   Ticket     Fare Cabin Embarked  \n",
            "0  34.5      0      0   330911   7.8292   NaN        Q  \n",
            "1  47.0      1      0   363272   7.0000   NaN        S  \n",
            "2  62.0      0      0   240276   9.6875   NaN        Q  \n",
            "3  27.0      0      0   315154   8.6625   NaN        S  \n",
            "4  22.0      1      1  3101298  12.2875   NaN        S  \n"
          ]
        }
      ]
    },
    {
      "cell_type": "code",
      "source": [
        "print(test_data.columns)"
      ],
      "metadata": {
        "colab": {
          "base_uri": "https://localhost:8080/"
        },
        "id": "8bM_BNqB9mIn",
        "outputId": "f8259e96-2584-4513-caa3-eee08e3fc65b"
      },
      "execution_count": 15,
      "outputs": [
        {
          "output_type": "stream",
          "name": "stdout",
          "text": [
            "Index(['PassengerId', 'Pclass', 'Name', 'Sex', 'Age', 'SibSp', 'Parch',\n",
            "       'Ticket', 'Fare', 'Cabin', 'Embarked'],\n",
            "      dtype='object')\n"
          ]
        }
      ]
    },
    {
      "cell_type": "code",
      "source": [
        "# Mount Google Drive (if the model is saved there)\n",
        "from google.colab import drive\n",
        "drive.mount('/content/drive')\n",
        "\n",
        "# Define the path to the saved model\n",
        "model_path = '/content/drive/MyDrive/models/best_model.pkl'  # Update this path as necessary\n"
      ],
      "metadata": {
        "colab": {
          "base_uri": "https://localhost:8080/"
        },
        "id": "zZM9m7Pg-FEl",
        "outputId": "740f2204-46ce-443d-832e-aee176c6184f"
      },
      "execution_count": 16,
      "outputs": [
        {
          "output_type": "stream",
          "name": "stdout",
          "text": [
            "Drive already mounted at /content/drive; to attempt to forcibly remount, call drive.mount(\"/content/drive\", force_remount=True).\n"
          ]
        }
      ]
    },
    {
      "cell_type": "code",
      "source": [
        "import os\n",
        "import joblib\n",
        "from sklearn.ensemble import RandomForestClassifier\n",
        "from sklearn.model_selection import GridSearchCV\n",
        "\n",
        "# Load the trained model\n",
        "try:\n",
        "    model = joblib.load(model_path)\n",
        "    print(\"Model loaded successfully.\")\n",
        "except FileNotFoundError:\n",
        "    print(f\"Model file not found at '{model_path}'. Please check the path and try again.\")\n",
        "    # Exit if the model cannot be loaded\n",
        "    import sys\n",
        "    sys.exit()\n",
        "\n",
        "# Define a function to preprocess new input data\n",
        "def preprocess_input(input_data):\n",
        "    \"\"\"\n",
        "    Preprocess the input data to match the training data format.\n",
        "\n",
        "    Parameters:\n",
        "    - input_data (dict): Dictionary containing input features.\n",
        "\n",
        "    Returns:\n",
        "    - pd.DataFrame: Preprocessed input features.\n",
        "    \"\"\"\n",
        "    # Convert input dictionary to DataFrame\n",
        "    input_df = pd.DataFrame([input_data])\n",
        "\n",
        "    # Add 'PassengerId' if not present\n",
        "    if 'PassengerId' not in input_df.columns:\n",
        "        input_df['PassengerId'] = 0  # Dummy value\n",
        "\n",
        "    # Add 'Age' if not present\n",
        "    if 'Age' not in input_df.columns:\n",
        "        input_df['Age'] = 30  # Replace with mean Age from training data if available\n",
        "\n",
        "    # One-hot encode categorical variables ('Sex' and 'Embarked')\n",
        "    input_df = pd.get_dummies(input_df, columns=['Sex', 'Embarked'], drop_first=True)\n",
        "\n",
        "    # Ensure all necessary columns are present\n",
        "    expected_cols = ['Pclass', 'SibSp', 'Parch', 'Fare', 'Sex_male', 'Embarked_Q', 'Embarked_S', 'Age', 'PassengerId']\n",
        "    for col in expected_cols:\n",
        "        if col not in input_df.columns:\n",
        "            input_df[col] = 0  # Add missing columns with default value 0\n",
        "\n",
        "    # Reorder columns to match training data\n",
        "    input_df = input_df[expected_cols]\n",
        "\n",
        "    return input_df\n",
        "\n",
        "# Example input including 'Age' and 'PassengerId'\n",
        "example_input = {\n",
        "    'PassengerId': 0,  # Dummy value\n",
        "    'Pclass': 3,\n",
        "    'SibSp': 1,\n",
        "    'Parch': 0,\n",
        "    'Fare': 7.25,\n",
        "    'Sex': 'male',\n",
        "    'Embarked': 'S',\n",
        "    'Age': 30  # Example age\n",
        "}\n",
        "\n",
        "# Preprocess the input\n",
        "processed_input = preprocess_input(example_input)\n",
        "\n",
        "# Make prediction\n",
        "try:\n",
        "    prediction = model.predict(processed_input)\n",
        "    prediction_proba = model.predict_proba(processed_input)[:, 1]\n",
        "\n",
        "    print(f\"Predicted Survival: {'Survived' if prediction[0] == 1 else 'Did Not Survive'}\")\n",
        "    print(f\"Survival Probability: {prediction_proba[0]:.2f}\")\n",
        "except ValueError as ve:\n",
        "    print(f\"ValueError during prediction: {ve}\")\n",
        "except Exception as e:\n",
        "    print(f\"An unexpected error occurred during prediction: {e}\")"
      ],
      "metadata": {
        "colab": {
          "base_uri": "https://localhost:8080/"
        },
        "id": "94PEa_9Dlkc8",
        "outputId": "4aa88ab9-c13e-43dc-83af-ab7e2a473839"
      },
      "execution_count": 19,
      "outputs": [
        {
          "output_type": "stream",
          "name": "stdout",
          "text": [
            "Model loaded successfully.\n",
            "ValueError during prediction: The feature names should match those that were passed during fit.\n",
            "Feature names must be in the same order as they were in fit.\n",
            "\n"
          ]
        }
      ]
    },
    {
      "cell_type": "code",
      "source": [
        "print(model.feature_names_in_)\n"
      ],
      "metadata": {
        "colab": {
          "base_uri": "https://localhost:8080/"
        },
        "id": "3S5XlM1sMIgn",
        "outputId": "78f4ab73-6fb0-4e2d-bb79-5b957d7d1447"
      },
      "execution_count": 20,
      "outputs": [
        {
          "output_type": "stream",
          "name": "stdout",
          "text": [
            "['PassengerId' 'Pclass' 'Age' 'SibSp' 'Parch' 'Fare' 'Sex_male'\n",
            " 'Embarked_Q' 'Embarked_S']\n"
          ]
        }
      ]
    },
    {
      "cell_type": "code",
      "source": [
        "print(processed_input.columns)\n"
      ],
      "metadata": {
        "colab": {
          "base_uri": "https://localhost:8080/"
        },
        "id": "p_CMlB9ZMJqS",
        "outputId": "f8c72dee-6bb1-4659-8a66-fbd20c971be2"
      },
      "execution_count": 21,
      "outputs": [
        {
          "output_type": "stream",
          "name": "stdout",
          "text": [
            "Index(['Pclass', 'SibSp', 'Parch', 'Fare', 'Sex_male', 'Embarked_Q',\n",
            "       'Embarked_S', 'Age', 'PassengerId'],\n",
            "      dtype='object')\n"
          ]
        }
      ]
    }
  ]
}